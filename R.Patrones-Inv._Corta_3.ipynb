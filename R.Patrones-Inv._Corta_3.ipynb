{
 "cells": [
  {
   "cell_type": "markdown",
   "id": "silent-taylor",
   "metadata": {},
   "source": [
    "# Natural Languaje Processing (NLP)\n",
    "\n",
    "<img src=\"Images/NLP.jpg\" width=\"800\">"
   ]
  },
  {
   "cell_type": "markdown",
   "id": "abstract-dependence",
   "metadata": {},
   "source": [
    "## Lenguaje Natural: \n",
    "\n",
    "En neuropsicología, lingüística y filosofía del lenguaje se le llama lenguaje natural a cualquier lenguaje que ha evolucionado de forma natural en los seres humanos mediante el uso y la repetición sin planificación o premeditación consciente. [1] En otras palabras es la manera en que nos comunicamos los seres humanos. Principalmente mediante el habla y la escritura. [2]\n",
    "\n",
    "<img src=\"Images/NL.png\" width=\"600\">\n",
    "\n",
    "## Procesamiento Natural del Lenguaje:\n",
    "\n",
    "El procesamiento natural del lenguaje es un área de las ciencias de la computación y de la inteligencia artificial, que se dedica a la manipulación automática del lenguaje natural. Como los son la manipulación, comprensión y generación del lenguaje natural. [2] En otras palabras, busca que las computadoras logren entender el lenguaje humano.\n",
    "\n",
    "<img src=\"Images/NLP.png\" width=\"600\">\n",
    "\n",
    "## Retos:\n",
    "\n",
    "El procesamiento natural del lenguaje es desafiante debido a la complejidad del lenguaje humano y sus muchas características. Reglas gramaticales, expresiones ideomáticas, constumbrismos, ambigüedad del vocabulario o expresiones, entre otras más.\n",
    "\n",
    "<img src=\"Images/chinese_whisper.jpeg\" width=\"600\">\n",
    "\n",
    "## Usos y aplicaciones\n",
    "\n",
    "* Tranductores. Ej: Google Translate\n",
    "* Antispam. Ej: Gmail\n",
    "* Buscadores. Ej: Google, Yahoo , etc\n",
    "* Resumen automático de texto.\n",
    "* Corrección gramatical.\n",
    "* Chatbots.\n",
    "* Asistentes virtuales. Ej: Siri, Google Voice, Alexa\n",
    "* Extraer información para categorizar un texto.\n",
    "* Publicidad (*Advertisement matching*)\n",
    "* Simplificar texto.\n",
    "* Resumir un texto.\n",
    "* Reconocimiento del habla.\n",
    "* Extraer el estado del ánimo en base al texto. (*sentimental analysis*)\n",
    "* Generar una descripción de una imagen o un video.\n",
    "* etc.\n",
    "\n",
    "## ¿Cómo comprenden las computadoras?\n",
    "\n",
    "* Primero se necesita alimentar a la máquina con suficiente datos para que la máquina logre aprender\n",
    "* Posteriormente la máquina creará un vector con representación numérica de las palabras.\n",
    "* Usando algoritmos de aprendizaje automatizado se procesa los vectores de entrada.\n",
    "* Para que finalmente la máquina logrará responder en un lenguaje humano.\n",
    "\n",
    "### Proceso morfológico\n",
    "\n",
    "Busca separar el texto en párrafos, oraciones y palabras.\n",
    "\n",
    "### Análisis sintáctico\n",
    "\n",
    "Busca verificar que el texto este bien formado mediante el léxico y la gramática. Para separar en una estructura que muestre las relaciones sintácticas entre las palabras.\n",
    "\n",
    "### Análisis semámtico\n",
    "\n",
    "Este análisis busca obtener el significado del texto. Primero analisando el significado individual de cada palabra (lexical semantics). Luego analisando el significado de la combinación de palabras en contexto. [3] Busca verificar el significado del texto mediante diccionarios.\n",
    "\n",
    "* Sentido de la palabra: Identificar el sentido con el que se usa la palabra en el contexto de la oración.\n",
    "* Extracción de relaciones: tratar de entender la relación entre las palabras.\n",
    "\n",
    "### Análisis Pragmático\n",
    "\n",
    "Busca encontrar el contexto real del texto mediante referencias previas obtenidas del análisis semántico."
   ]
  },
  {
   "cell_type": "markdown",
   "id": "considered-connecticut",
   "metadata": {},
   "source": [
    "## Componentes del procesamiento natural del lenguaje"
   ]
  },
  {
   "cell_type": "markdown",
   "id": "fifteen-presentation",
   "metadata": {},
   "source": [
    "## Ejemplo 1: Pre-procesado de texto mediante la librería NLTK (Natural Language Toolkit)."
   ]
  },
  {
   "cell_type": "code",
   "execution_count": 1,
   "id": "satellite-vacuum",
   "metadata": {},
   "outputs": [],
   "source": [
    "text = \"\"\"\n",
    "Natural language processing is a subfield of computer science, \n",
    "and artificial intelligence concerned with the interactions between computers and human language.\n",
    "\"\"\""
   ]
  },
  {
   "cell_type": "markdown",
   "id": "pregnant-console",
   "metadata": {},
   "source": [
    "### Tokenize\n",
    "\n",
    "Toma una oración y la divide en pequeñas porciones o **Tokens**."
   ]
  },
  {
   "cell_type": "code",
   "execution_count": 2,
   "id": "ceramic-spirit",
   "metadata": {},
   "outputs": [
    {
     "name": "stdout",
     "output_type": "stream",
     "text": [
      "['Natural', 'language', 'processing', 'is', 'a', 'subfield', 'of', 'computer', 'science', ',', 'and', 'artificial', 'intelligence', 'concerned', 'with', 'the', 'interactions', 'between', 'computers', 'and', 'human', 'language', '.']\n"
     ]
    }
   ],
   "source": [
    "from nltk.tokenize import word_tokenize\n",
    "tokens = word_tokenize(text)\n",
    "print(tokens)"
   ]
  },
  {
   "cell_type": "markdown",
   "id": "incorporate-publicity",
   "metadata": {},
   "source": [
    "### Stopwords\n",
    "\n",
    "Son palabras que no aportan mucho al análisis del texto."
   ]
  },
  {
   "cell_type": "code",
   "execution_count": 3,
   "id": "caroline-primary",
   "metadata": {},
   "outputs": [
    {
     "name": "stdout",
     "output_type": "stream",
     "text": [
      "{\"won't\", 'when', 'too', 'myself', 'in', 'ain', 'we', 'had', \"mustn't\", \"wouldn't\", 'own', 'by', 'these', \"wasn't\", 'down', 'yourselves', 'it', 'that', 'haven', 'wasn', 'just', 'how', 'me', 'where', 'each', 'is', \"doesn't\", 'aren', 'don', 'no', 'to', \"weren't\", 'yourself', 'having', 'between', 'under', 'my', 'not', 'was', 'be', 'over', \"shan't\", 'are', \"don't\", 'before', 'most', 'your', 'y', \"haven't\", 'ma', 'she', 'which', 'why', 'shouldn', 'then', 'nor', 'whom', 'with', 'again', 'there', 'while', 'mustn', 'herself', 'up', 'won', 'mightn', \"you're\", \"you've\", 'does', 'should', 'hasn', \"mightn't\", 'being', 'all', 'have', 'on', \"shouldn't\", 'through', 'they', 'after', 've', 'were', 'as', \"you'd\", 'if', 'him', 'off', 'our', 'into', \"that'll\", \"couldn't\", 'once', 'couldn', 'been', 'did', 'so', 'against', 'those', 'her', 'theirs', 'weren', 'hadn', 'ours', 'more', 'needn', \"it's\", 'until', 'during', 'above', 'm', \"you'll\", 'his', 'because', 'now', 'hers', 'doesn', 'himself', 's', 'do', 'here', 'few', 'for', 'an', 'about', 'than', \"needn't\", 'both', 'their', 'isn', 'he', 'didn', 'the', \"hadn't\", 'am', 'itself', 'or', 'ourselves', 'some', \"didn't\", 'out', \"aren't\", 'any', 'only', 'of', 'o', \"should've\", 're', 'at', 'you', 'further', 't', 'who', 'shan', 'very', 'other', 'will', 'below', 'doing', 'its', 'and', 'wouldn', \"she's\", 'them', 'such', 'from', 'themselves', 'what', 'd', 'this', \"hasn't\", 'but', 'yours', 'i', 'same', 'can', 'has', \"isn't\", 'll', 'a'}\n"
     ]
    }
   ],
   "source": [
    "from nltk.corpus import stopwords\n",
    "english_stops = set(stopwords.words('english'))\n",
    "print(english_stops)"
   ]
  },
  {
   "cell_type": "code",
   "execution_count": 4,
   "id": "hungarian-satisfaction",
   "metadata": {},
   "outputs": [
    {
     "name": "stdout",
     "output_type": "stream",
     "text": [
      "['Natural', 'language', 'processing', 'subfield', 'computer', 'science', ',', 'artificial', 'intelligence', 'concerned', 'interactions', 'computers', 'human', 'language', '.']\n"
     ]
    }
   ],
   "source": [
    "tokens_sw = [word for word in tokens if word not in english_stops]\n",
    "print(tokens_sw)"
   ]
  },
  {
   "cell_type": "markdown",
   "id": "smoking-privacy",
   "metadata": {},
   "source": [
    "### Stemming & Lemmatization\n",
    "\n",
    "Se busca normalizar las palabras en su forma base.\n",
    "\n",
    "#### Stemming\n",
    "\n",
    "Remueve y reemplaza sufijos.\n",
    "\n",
    "* Porter \n",
    "* Lancaster\n",
    "* Snowball (Multi-language)"
   ]
  },
  {
   "cell_type": "code",
   "execution_count": 5,
   "id": "painful-coalition",
   "metadata": {},
   "outputs": [
    {
     "name": "stdout",
     "output_type": "stream",
     "text": [
      "['natur', 'languag', 'process', 'subfield', 'comput', 'scienc', ',', 'artifici', 'intellig', 'concern', 'interact', 'comput', 'human', 'languag', '.']\n"
     ]
    }
   ],
   "source": [
    "from nltk.stem import PorterStemmer\n",
    "word_stemmer = PorterStemmer()\n",
    "tokens_stem_1 = [word_stemmer.stem(word) for word in tokens_sw]\n",
    "print(tokens_stem_1)"
   ]
  },
  {
   "cell_type": "markdown",
   "id": "efficient-service",
   "metadata": {},
   "source": [
    "Toma una expresión y remueve el prefijo o sufijo que encagen en la expresión.\n",
    "\n",
    "* Regular Expression:"
   ]
  },
  {
   "cell_type": "code",
   "execution_count": 6,
   "id": "higher-trade",
   "metadata": {},
   "outputs": [
    {
     "name": "stdout",
     "output_type": "stream",
     "text": [
      "['Natural', 'language', 'process', 'subfield', 'computer', 'science', ',', 'artificial', 'intelligence', 'concerned', 'interactions', 'computers', 'human', 'language', '.']\n"
     ]
    }
   ],
   "source": [
    "from nltk.stem import RegexpStemmer\n",
    "word_stemmer = RegexpStemmer('ing')\n",
    "tokens_stem_2 = [word_stemmer.stem(word) for word in tokens_sw]\n",
    "print(tokens_stem_2)"
   ]
  },
  {
   "cell_type": "markdown",
   "id": "worth-tattoo",
   "metadata": {},
   "source": [
    "#### Lemmatization\n",
    "\n",
    "Convierte las palabras a su forma básica llamada lemma."
   ]
  },
  {
   "cell_type": "code",
   "execution_count": 7,
   "id": "promotional-brass",
   "metadata": {},
   "outputs": [
    {
     "name": "stdout",
     "output_type": "stream",
     "text": [
      "['Natural', 'language', 'process', 'be', 'a', 'subfield', 'of', 'computer', 'science', ',', 'and', 'artificial', 'intelligence', 'concern', 'with', 'the', 'interaction', 'between', 'computer', 'and', 'human', 'language', '.']\n"
     ]
    }
   ],
   "source": [
    "from nltk.stem import WordNetLemmatizer\n",
    "lemmas = []\n",
    "lemmatizer = WordNetLemmatizer()\n",
    "for token in tokens:\n",
    "    lemma = lemmatizer.lemmatize(token,pos='n')\n",
    "    lemma = lemmatizer.lemmatize(lemma,pos='v')\n",
    "    lemmas.append(lemma)\n",
    "print(lemmas)"
   ]
  },
  {
   "cell_type": "markdown",
   "id": "negative-consortium",
   "metadata": {},
   "source": [
    "### Part of Speech Tagging / POS Tag\n",
    "\n",
    "Es un tipo de clasificación en donde se clasifican los token segun la semántica. Sujeto, verbo, adverbios, adjetivos, pronombres, etc.\n",
    "\n",
    "<img src=\"Images/Tags.png\" width=\"600\">"
   ]
  },
  {
   "cell_type": "code",
   "execution_count": 8,
   "id": "identified-nickname",
   "metadata": {},
   "outputs": [
    {
     "name": "stdout",
     "output_type": "stream",
     "text": [
      "[('Natural', 'JJ'), ('language', 'NN'), ('processing', 'NN'), ('is', 'VBZ'), ('a', 'DT'), ('subfield', 'NN'), ('of', 'IN'), ('computer', 'NN'), ('science', 'NN'), (',', ','), ('and', 'CC'), ('artificial', 'JJ'), ('intelligence', 'NN'), ('concerned', 'VBN'), ('with', 'IN'), ('the', 'DT'), ('interactions', 'NNS'), ('between', 'IN'), ('computers', 'NNS'), ('and', 'CC'), ('human', 'JJ'), ('language', 'NN'), ('.', '.')]\n"
     ]
    }
   ],
   "source": [
    "import nltk\n",
    "tokens_n_tags = nltk.pos_tag(tokens)\n",
    "print(tokens_n_tags)"
   ]
  },
  {
   "cell_type": "markdown",
   "id": "nominated-chapel",
   "metadata": {},
   "source": [
    "### Chunking\n",
    "\n",
    "Separar la oración o frase en grupos según su análisis sintáctico."
   ]
  },
  {
   "cell_type": "code",
   "execution_count": 9,
   "id": "considered-dinner",
   "metadata": {},
   "outputs": [
    {
     "data": {
      "image/png": "[encoded data removed]",
      "text/plain": [
       "Tree('S', [Tree('NP', [('Natural', 'JJ'), ('language', 'NN')]), Tree('NP', [('processing', 'NN')]), ('is', 'VBZ'), Tree('NP', [('a', 'DT'), ('subfield', 'NN')]), ('of', 'IN'), Tree('NP', [('computer', 'NN')]), Tree('NP', [('science', 'NN')]), (',', ','), ('and', 'CC'), Tree('NP', [('artificial', 'JJ'), ('intelligence', 'NN')]), ('concerned', 'VBN'), ('with', 'IN'), ('the', 'DT'), ('interactions', 'NNS'), ('between', 'IN'), ('computers', 'NNS'), ('and', 'CC'), Tree('NP', [('human', 'JJ'), ('language', 'NN')]), ('.', '.')])"
      ]
     },
     "execution_count": 9,
     "metadata": {},
     "output_type": "execute_result"
    }
   ],
   "source": [
    "grammar_np = r\"NP: {<DT>?<JJ>*<NN>}\"\n",
    "chunk_parser = nltk.RegexpParser(grammar_np)\n",
    "chunk_result = chunk_parser.parse(tokens_n_tags)\n",
    "chunk_result"
   ]
  },
  {
   "cell_type": "markdown",
   "id": "south-gothic",
   "metadata": {},
   "source": [
    "### Bag of Words\n",
    "\n",
    "Es una lista de palabras de referencia."
   ]
  },
  {
   "cell_type": "code",
   "execution_count": 10,
   "id": "adjustable-ordinary",
   "metadata": {},
   "outputs": [
    {
     "name": "stdout",
     "output_type": "stream",
     "text": [
      "['Natural', 'language', 'processing', 'subfield', 'computer', 'science', '', 'artificial', 'intelligence', 'concerned', 'interactions', 'computers', 'human', 'language', '']\n"
     ]
    }
   ],
   "source": [
    "import string\n",
    "import re\n",
    "tokens_stem_1\n",
    "re_punc = re.compile('[%s]' % re.escape(string.punctuation))\n",
    "bag_of_words = [re_punc.sub('',w) for w in tokens_sw]\n",
    "print(bag_of_words)"
   ]
  },
  {
   "cell_type": "markdown",
   "id": "ruled-injection",
   "metadata": {},
   "source": [
    "### Vectorización\n",
    "\n",
    "Codificar las palabras del texto en valores numéricos para ser procesado por el algoritmo de aprendizaje automatizado."
   ]
  },
  {
   "cell_type": "code",
   "execution_count": 11,
   "id": "standard-calvin",
   "metadata": {},
   "outputs": [
    {
     "name": "stdout",
     "output_type": "stream",
     "text": [
      "Vectorizer vocabulary:\n",
      "{'natural': 8, 'language': 7, 'processing': 9, 'subfield': 11, 'computer': 1, 'science': 10, 'artificial': 0, 'intelligence': 5, 'concerned': 3, 'interactions': 6, 'computers': 2, 'human': 4}\n",
      "\n",
      "[[1 1 1 1 1 1 1 2 1 1 1 1]]\n"
     ]
    }
   ],
   "source": [
    "from sklearn.feature_extraction.text import CountVectorizer\n",
    "vectorizer = CountVectorizer()\n",
    "txt = [' '.join(bag_of_words)]\n",
    "vectorizer.fit(txt)\n",
    "vector = vectorizer.transform(txt)\n",
    "print(\"Vectorizer vocabulary:\")\n",
    "print(vectorizer.vocabulary_)\n",
    "print(\"\")\n",
    "print(vector.toarray())"
   ]
  },
  {
   "cell_type": "markdown",
   "id": "treated-catalog",
   "metadata": {},
   "source": [
    "## Uso de Redes Neuronales\n",
    "\n",
    "### Ejemplo 2: Clasificación de reseñas de películas usando redes neuronales con Keras."
   ]
  },
  {
   "cell_type": "markdown",
   "id": "engaged-playing",
   "metadata": {},
   "source": [
    "Importar librerías"
   ]
  },
  {
   "cell_type": "code",
   "execution_count": 12,
   "id": "backed-artist",
   "metadata": {},
   "outputs": [],
   "source": [
    "import string\n",
    "import re\n",
    "import numpy as np\n",
    "from os import listdir\n",
    "from collections import Counter\n",
    "from nltk.tokenize import word_tokenize\n",
    "from nltk.corpus import stopwords\n",
    "from nltk.stem import PorterStemmer\n",
    "\n",
    "from keras.preprocessing.text import Tokenizer\n",
    "from keras.utils.vis_utils import plot_model\n",
    "from keras.models import Sequential\n",
    "from keras.layers import Dense"
   ]
  },
  {
   "cell_type": "markdown",
   "id": "creative-stadium",
   "metadata": {},
   "source": [
    "#### Funciones de preprocesado\n",
    "\n",
    "Cargar archivo."
   ]
  },
  {
   "cell_type": "code",
   "execution_count": 13,
   "id": "oriental-deadline",
   "metadata": {},
   "outputs": [],
   "source": [
    "def load_doc(filename):\n",
    "    file = open(filename,'r')\n",
    "    text = file.read()\n",
    "    file.close()\n",
    "    return text"
   ]
  },
  {
   "cell_type": "markdown",
   "id": "remarkable-benefit",
   "metadata": {},
   "source": [
    "Preprocesado del texto."
   ]
  },
  {
   "cell_type": "code",
   "execution_count": 14,
   "id": "outstanding-heaven",
   "metadata": {},
   "outputs": [],
   "source": [
    "def preprocess(text):\n",
    "    tokens = word_tokenize(text)\n",
    "    re_punc = re.compile('[%s]' % re.escape(string.punctuation))\n",
    "    tokens = [re_punc.sub('',w) for w in tokens]\n",
    "    english_stops = set(stopwords.words('english'))\n",
    "    tokens_sw = [word for word in tokens if word not in english_stops]\n",
    "    word_stemmer = PorterStemmer()\n",
    "    tokens_stem = [word_stemmer.stem(word) for word in tokens_sw]\n",
    "    Tokens = [word for word in tokens_stem if len(word) > 1]\n",
    "    return Tokens"
   ]
  },
  {
   "cell_type": "markdown",
   "id": "located-local",
   "metadata": {},
   "source": [
    "Crear la lista de palabras o *bag of words*."
   ]
  },
  {
   "cell_type": "code",
   "execution_count": 15,
   "id": "economic-county",
   "metadata": {},
   "outputs": [],
   "source": [
    "def bag_of_words(filename,vocab):\n",
    "    text = load_doc(filename)\n",
    "    clean_text = preprocess(text)\n",
    "    vocab.update(clean_text)"
   ]
  },
  {
   "cell_type": "markdown",
   "id": "cubic-cincinnati",
   "metadata": {},
   "source": [
    "Leer los archivos del directorio que empiecen con 'cv9'"
   ]
  },
  {
   "cell_type": "code",
   "execution_count": 16,
   "id": "higher-dream",
   "metadata": {},
   "outputs": [],
   "source": [
    "def read_files_in_dir(directory,vocab):\n",
    "    for filename in listdir(directory):\n",
    "        if filename.startswith('cv9'):\n",
    "            continue\n",
    "        path = directory + '/' + filename\n",
    "        bag_of_words(path,vocab)"
   ]
  },
  {
   "cell_type": "markdown",
   "id": "tribal-nirvana",
   "metadata": {},
   "source": [
    "Guardar la lista de palabras o *bag of words*."
   ]
  },
  {
   "cell_type": "code",
   "execution_count": 17,
   "id": "photographic-texas",
   "metadata": {},
   "outputs": [],
   "source": [
    "def save_list(filename,text):\n",
    "    data = '\\n'.join(text)\n",
    "    file = open(filename,'w')\n",
    "    file.write(data)\n",
    "    file.close()"
   ]
  },
  {
   "cell_type": "markdown",
   "id": "civic-repeat",
   "metadata": {},
   "source": [
    "#### Funciones de procesado\n",
    "\n",
    "Leer los archivos para ser procesados."
   ]
  },
  {
   "cell_type": "code",
   "execution_count": 18,
   "id": "english-mobility",
   "metadata": {},
   "outputs": [],
   "source": [
    "def read_files_to_process(directory,vocab,is_train):\n",
    "    lines = list()\n",
    "    for filename in listdir(directory):\n",
    "        if is_train and filename.startswith('cv9'):\n",
    "            continue\n",
    "        if not is_train and not filename.startswith('cv9'):\n",
    "            continue\n",
    "        path = directory + '/' + filename\n",
    "        text = load_doc(path)\n",
    "        words = preprocess(text)\n",
    "        line = [word for word in words if word in vocab]\n",
    "        lines.append(line)\n",
    "    return lines"
   ]
  },
  {
   "cell_type": "markdown",
   "id": "necessary-academy",
   "metadata": {},
   "source": [
    "Acomodar el data set en reseñas positivas y negativas."
   ]
  },
  {
   "cell_type": "code",
   "execution_count": 19,
   "id": "proud-guitar",
   "metadata": {},
   "outputs": [],
   "source": [
    "def load_clean_dataset(vocab,is_train):\n",
    "    pos = read_files_to_process('movie_reviews/pos',vocab,is_train)\n",
    "    neg = read_files_to_process('movie_reviews/neg',vocab,is_train)\n",
    "    dataset = neg + pos\n",
    "    labels = [0 for _ in range(len(neg))] + [1 for _ in range(len(pos))]\n",
    "    return dataset,labels"
   ]
  },
  {
   "cell_type": "markdown",
   "id": "alone-region",
   "metadata": {},
   "source": [
    "Tokenización del dataset"
   ]
  },
  {
   "cell_type": "code",
   "execution_count": 20,
   "id": "sound-wednesday",
   "metadata": {},
   "outputs": [],
   "source": [
    "def create_tokenizer(dataset):\n",
    "    tokenizer = Tokenizer()\n",
    "    tokenizer.fit_on_texts(dataset)\n",
    "    return tokenizer"
   ]
  },
  {
   "cell_type": "markdown",
   "id": "marked-injury",
   "metadata": {},
   "source": [
    "Definición de la red neuronal."
   ]
  },
  {
   "cell_type": "code",
   "execution_count": 21,
   "id": "dutch-rhythm",
   "metadata": {},
   "outputs": [],
   "source": [
    "def define_model(n_words):\n",
    "    model = Sequential()\n",
    "    model.add(Dense(50,input_shape=(n_words,),activation='relu'))\n",
    "    model.add(Dense(1,activation='sigmoid'))\n",
    "    model.compile(loss='binary_crossentropy',optimizer='adam',metrics=['accuracy'])\n",
    "    model.summary()\n",
    "    plot_model(model,to_file='model.png',show_shapes=True)\n",
    "    return model"
   ]
  },
  {
   "cell_type": "markdown",
   "id": "fresh-hello",
   "metadata": {},
   "source": [
    "#### Ejecución\n",
    "\n",
    "Crear lista de *Bag of Words*."
   ]
  },
  {
   "cell_type": "code",
   "execution_count": 22,
   "id": "hearing-orbit",
   "metadata": {},
   "outputs": [],
   "source": [
    "vocab = Counter()\n",
    "read_files_in_dir('movie_reviews/pos',vocab)\n",
    "read_files_in_dir('movie_reviews/neg',vocab)\n",
    "min_occurane = 2\n",
    "text = [k for k,c in vocab.items() if c >= min_occurane]\n",
    "save_list(\"bag_of_words.txt\",text)"
   ]
  },
  {
   "cell_type": "markdown",
   "id": "challenging-projection",
   "metadata": {},
   "source": [
    "Procesado de los datos"
   ]
  },
  {
   "cell_type": "code",
   "execution_count": 23,
   "id": "abstract-devon",
   "metadata": {
    "scrolled": true
   },
   "outputs": [
    {
     "name": "stdout",
     "output_type": "stream",
     "text": [
      "Model: \"sequential\"\n",
      "_________________________________________________________________\n",
      "Layer (type)                 Output Shape              Param #   \n",
      "=================================================================\n",
      "dense (Dense)                (None, 50)                892700    \n",
      "_________________________________________________________________\n",
      "dense_1 (Dense)              (None, 1)                 51        \n",
      "=================================================================\n",
      "Total params: 892,751\n",
      "Trainable params: 892,751\n",
      "Non-trainable params: 0\n",
      "_________________________________________________________________\n",
      "Epoch 1/10\n",
      "57/57 - 2s - loss: 0.6916 - accuracy: 0.5572\n",
      "Epoch 2/10\n",
      "57/57 - 1s - loss: 0.6827 - accuracy: 0.7428\n",
      "Epoch 3/10\n",
      "57/57 - 1s - loss: 0.6654 - accuracy: 0.8956\n",
      "Epoch 4/10\n",
      "57/57 - 1s - loss: 0.6381 - accuracy: 0.8650\n",
      "Epoch 5/10\n",
      "57/57 - 1s - loss: 0.6015 - accuracy: 0.9022\n",
      "Epoch 6/10\n",
      "57/57 - 1s - loss: 0.5613 - accuracy: 0.9139\n",
      "Epoch 7/10\n",
      "57/57 - 1s - loss: 0.5171 - accuracy: 0.9322\n",
      "Epoch 8/10\n",
      "57/57 - 1s - loss: 0.4735 - accuracy: 0.9344\n",
      "Epoch 9/10\n",
      "57/57 - 1s - loss: 0.4322 - accuracy: 0.9439\n",
      "Epoch 10/10\n",
      "57/57 - 1s - loss: 0.3928 - accuracy: 0.9494\n",
      "Test Accuracy: 85.000002\n"
     ]
    }
   ],
   "source": [
    "vocab_filename = 'bag_of_words.txt'\n",
    "vocab = load_doc(vocab_filename)\n",
    "vocab = set(vocab.split())\n",
    "\n",
    "xtrain,ytrain = load_clean_dataset(vocab,True)\n",
    "xtest,ytest = load_clean_dataset(vocab,False)\n",
    "tokenizer = create_tokenizer(xtrain)\n",
    "Xtrain = tokenizer.texts_to_matrix(xtrain,mode='freq')\n",
    "Xtest = tokenizer.texts_to_matrix(xtest,mode='freq')\n",
    "\n",
    "Xtrain = np.array(Xtrain)\n",
    "ytrain = np.array(ytrain)\n",
    "Xtest = np.array(Xtest)\n",
    "ytest = np.array(ytest)\n",
    "\n",
    "n_words = Xtest.shape[1]\n",
    "model = define_model(n_words)\n",
    "model.fit(Xtrain,ytrain,epochs=10,verbose=2)\n",
    "loss,acc = model.evaluate(Xtest,ytest,verbose=0)\n",
    "print('Test Accuracy: %f' % (acc*100))"
   ]
  },
  {
   "cell_type": "markdown",
   "id": "external-vault",
   "metadata": {},
   "source": [
    "## RNN Redes Neuronales Recurrentes \n",
    "\n",
    "La idea es retro alimentar la red con información previa. En el caso de NLP esta información previa brinda el contexto de la oración.\n",
    "\n",
    "<img src=\"Images/RNN_1.jpeg\" width=\"400\">\n",
    "\n",
    "Además se puede hacer uso del análisis semántico para pasar los *chunks* a la red.\n",
    "\n",
    "Mediante el uso de RNNs se creatron arquitecturas para la traducción de texto. Se emplea un *encoder* que mapea la secuencia de entrada a una representación abstracta. \n",
    "\n",
    "Y posterior un *decoder* crea una nueva representación abstracta teniendo en cuenta la representación del encoder.\n",
    "\n",
    "En medio de ambos bloques de *encoder* y *decoder* se encuentra un bloque de *attention* que brinda contexto de la representación abstracta del encoder a la representación abstracta del decoder.\n",
    "\n",
    "<img src=\"Images/Neural_Machine_Translation.png\" width=\"600\">\n",
    "\n",
    "Una desventaja de estos modelos es la memoria de corto plazo que poseen."
   ]
  },
  {
   "cell_type": "markdown",
   "id": "certain-relay",
   "metadata": {},
   "source": [
    "## Transformers\n",
    "\n",
    "Con el concepto de *Attention Mechanism* aparecen los *Transformers* que llegaron a tener mejores rendimientos que las arquitecturas previas. Esto debido a que este modelo no sufre de las deficiencias de la memoria a corto plazo. Y más bien con suficientes recursos computacionales, cuentan con una memoria casi infita.\n",
    "\n",
    "<img src=\"Images/Transformer Model Architecture.png\" width=\"400\">\n",
    "\n",
    "### Encoder\n",
    "\n",
    "#### Input Embbeding\n",
    "Busca en una lista de palabras un factor de representación para las paabras del texto. Si las palabras son similares el factor de representación será similar.\n",
    "\n",
    "#### Position Encoding\n",
    "Como este modelo no cuenta con recurrencia como en el caso de las RNNs. A las palabras se les asigna información de posición usando funciones seno y coseno.\n",
    "\n",
    "$\\text{P.E.}(\\text{pos},2i) = \\text{sin}(\\frac{\\text{pos}}{10000^{2i}/\\text{dmodel}})$\n",
    "\n",
    "$\\text{P.E.}(\\text{pos},2i+1) = \\text{cos}(\\frac{\\text{pos}}{10000^{2i}/\\text{dmodel}})$\n",
    "\n",
    "#### Multi Head Attention\n",
    "\n",
    "<img src=\"Images/Scaled Dot-Product Attention & Multi-Head Attention.png\" width=\"600\">\n",
    "\n",
    "Este bloque cuenta con tres entradas: \n",
    "\n",
    "* **Query** ($Q$): Se puede ver como una *petición* que se hace.\n",
    "* **Key** ($K$): Son las *palabras claves* que mejor encajan para responder la *petición*\n",
    "* **Value** ($V$): Es un valor de escalamiento.\n",
    "\n",
    "##### Scaled Dot-Product Attention\n",
    "\n",
    "* Se multiplica $Q \\times K = $ *score matrix*.\n",
    "* Se escala el resultado o *score matrix* dividiendo entre la raíz de la dimensión de $Q$ y $K$: *score_matrix*$/\\sqrt{dim}$. Este escalamiento le da más estabilidad al gradiente. Los valores más altos representan las palabras más relevantes.\n",
    "\n",
    "<img src=\"Images/score_matrix.png\" width=\"200\">\n",
    "\n",
    "* Se le aplica una función *softmax* para obtener una matriz de pesos\n",
    "* Se multiplica la matriz de pesos por $V$.\n",
    "\n",
    "Después del bloque *Scaled Dot-Product Attention* se normaliza el resultado.\n",
    "\n",
    "\n",
    "### Decoder\n",
    "\n",
    "El *Decoder* funciona casi igual al *Encoder* con la diferenncia que el *Decoder* cuenta con un bloque *Multi Head Attention* que enmascara el resutado. Para el enmascaramiento se usa una matriz llamada *look ahead mask*, la cual se suma a la *score matrix*.\n",
    "\n",
    "<img src=\"Images/look_ahead_mask.png\" width=\"600\">\n",
    "\n",
    "El uso de $-\\infty$ se debe a que al posterior realizar la función *softmax*, los $-\\infty$ pasan a ceros.\n",
    "\n",
    "<img src=\"Images/softmax_look_ahead_mask.png\" width=\"600\">\n",
    "\n",
    "La razón de este enmascaramiento es para innivir al bloque *Multi Head Attention* de buscar palabras futuras en la oración."
   ]
  },
  {
   "cell_type": "markdown",
   "id": "subtle-horizon",
   "metadata": {},
   "source": [
    "### Ejemplo 3: Clasificación de texto mediante Transmormers\n",
    "\n",
    "Inportar las librerías"
   ]
  },
  {
   "cell_type": "code",
   "execution_count": 24,
   "id": "alpine-medication",
   "metadata": {},
   "outputs": [],
   "source": [
    "import tensorflow as tf\n",
    "from tensorflow import keras\n",
    "from tensorflow.keras import layers"
   ]
  },
  {
   "cell_type": "markdown",
   "id": "processed-leone",
   "metadata": {},
   "source": [
    "Implementar el bloque de *Transformer*."
   ]
  },
  {
   "cell_type": "code",
   "execution_count": 25,
   "id": "narrative-party",
   "metadata": {},
   "outputs": [],
   "source": [
    "class TransformerBlock(layers.Layer):\n",
    "    def __init__(self, embed_dim, num_heads, ff_dim, rate=0.1):\n",
    "        super(TransformerBlock, self).__init__()\n",
    "        self.att = layers.MultiHeadAttention(num_heads=num_heads, key_dim=embed_dim)\n",
    "        self.ffn = keras.Sequential(\n",
    "            [layers.Dense(ff_dim, activation=\"relu\"), layers.Dense(embed_dim),]\n",
    "        )\n",
    "        self.layernorm1 = layers.LayerNormalization(epsilon=1e-6)\n",
    "        self.layernorm2 = layers.LayerNormalization(epsilon=1e-6)\n",
    "        self.dropout1 = layers.Dropout(rate)\n",
    "        self.dropout2 = layers.Dropout(rate)\n",
    "\n",
    "    def call(self, inputs, training):\n",
    "        attn_output = self.att(inputs, inputs)\n",
    "        attn_output = self.dropout1(attn_output, training=training)\n",
    "        out1 = self.layernorm1(inputs + attn_output)\n",
    "        ffn_output = self.ffn(out1)\n",
    "        ffn_output = self.dropout2(ffn_output, training=training)\n",
    "        return self.layernorm2(out1 + ffn_output)"
   ]
  },
  {
   "cell_type": "markdown",
   "id": "better-configuration",
   "metadata": {},
   "source": [
    "Implementar la tokenización y *Position Embedding*."
   ]
  },
  {
   "cell_type": "code",
   "execution_count": 26,
   "id": "supposed-database",
   "metadata": {},
   "outputs": [],
   "source": [
    "class TokenAndPositionEmbedding(layers.Layer):\n",
    "    def __init__(self, maxlen, vocab_size, embed_dim):\n",
    "        super(TokenAndPositionEmbedding, self).__init__()\n",
    "        self.token_emb = layers.Embedding(input_dim=vocab_size, output_dim=embed_dim)\n",
    "        self.pos_emb = layers.Embedding(input_dim=maxlen, output_dim=embed_dim)\n",
    "\n",
    "    def call(self, x):\n",
    "        maxlen = tf.shape(x)[-1]\n",
    "        positions = tf.range(start=0, limit=maxlen, delta=1)\n",
    "        positions = self.pos_emb(positions)\n",
    "        x = self.token_emb(x)\n",
    "        return x + positions"
   ]
  },
  {
   "cell_type": "markdown",
   "id": "introductory-cookbook",
   "metadata": {},
   "source": [
    "Cargar y preparar el *dataset*."
   ]
  },
  {
   "cell_type": "code",
   "execution_count": 27,
   "id": "interior-skill",
   "metadata": {},
   "outputs": [
    {
     "name": "stderr",
     "output_type": "stream",
     "text": [
      "<__array_function__ internals>:5: VisibleDeprecationWarning: Creating an ndarray from ragged nested sequences (which is a list-or-tuple of lists-or-tuples-or ndarrays with different lengths or shapes) is deprecated. If you meant to do this, you must specify 'dtype=object' when creating the ndarray.\n",
      "/home/flz/miniconda3/envs/ML/lib/python3.9/site-packages/tensorflow/python/keras/datasets/imdb.py:159: VisibleDeprecationWarning: Creating an ndarray from ragged nested sequences (which is a list-or-tuple of lists-or-tuples-or ndarrays with different lengths or shapes) is deprecated. If you meant to do this, you must specify 'dtype=object' when creating the ndarray.\n",
      "  x_train, y_train = np.array(xs[:idx]), np.array(labels[:idx])\n",
      "/home/flz/miniconda3/envs/ML/lib/python3.9/site-packages/tensorflow/python/keras/datasets/imdb.py:160: VisibleDeprecationWarning: Creating an ndarray from ragged nested sequences (which is a list-or-tuple of lists-or-tuples-or ndarrays with different lengths or shapes) is deprecated. If you meant to do this, you must specify 'dtype=object' when creating the ndarray.\n",
      "  x_test, y_test = np.array(xs[idx:]), np.array(labels[idx:])\n"
     ]
    },
    {
     "name": "stdout",
     "output_type": "stream",
     "text": [
      "25000 Training sequences\n",
      "25000 Validation sequences\n"
     ]
    }
   ],
   "source": [
    "vocab_size = 20000  # Only consider the top 20k words\n",
    "maxlen = 200  # Only consider the first 200 words of each movie review\n",
    "(x_train, y_train), (x_val, y_val) = keras.datasets.imdb.load_data(num_words=vocab_size)\n",
    "print(len(x_train), \"Training sequences\")\n",
    "print(len(x_val), \"Validation sequences\")\n",
    "x_train = keras.preprocessing.sequence.pad_sequences(x_train, maxlen=maxlen)\n",
    "x_val = keras.preprocessing.sequence.pad_sequences(x_val, maxlen=maxlen)"
   ]
  },
  {
   "cell_type": "markdown",
   "id": "median-bangladesh",
   "metadata": {},
   "source": [
    "Crear el modelo."
   ]
  },
  {
   "cell_type": "code",
   "execution_count": 28,
   "id": "critical-second",
   "metadata": {},
   "outputs": [
    {
     "name": "stdout",
     "output_type": "stream",
     "text": [
      "WARNING:tensorflow:AutoGraph could not transform <bound method TokenAndPositionEmbedding.call of <__main__.TokenAndPositionEmbedding object at 0x7fde0cdf7df0>> and will run it as-is.\n",
      "Please report this to the TensorFlow team. When filing the bug, set the verbosity to 10 (on Linux, `export AUTOGRAPH_VERBOSITY=10`) and attach the full output.\n",
      "Cause: module 'gast' has no attribute 'Index'\n",
      "To silence this warning, decorate the function with @tf.autograph.experimental.do_not_convert\n",
      "WARNING: AutoGraph could not transform <bound method TokenAndPositionEmbedding.call of <__main__.TokenAndPositionEmbedding object at 0x7fde0cdf7df0>> and will run it as-is.\n",
      "Please report this to the TensorFlow team. When filing the bug, set the verbosity to 10 (on Linux, `export AUTOGRAPH_VERBOSITY=10`) and attach the full output.\n",
      "Cause: module 'gast' has no attribute 'Index'\n",
      "To silence this warning, decorate the function with @tf.autograph.experimental.do_not_convert\n"
     ]
    }
   ],
   "source": [
    "embed_dim = 32  # Embedding size for each token\n",
    "num_heads = 2  # Number of attention heads\n",
    "ff_dim = 32  # Hidden layer size in feed forward network inside transformer\n",
    "\n",
    "inputs = layers.Input(shape=(maxlen,))\n",
    "embedding_layer = TokenAndPositionEmbedding(maxlen, vocab_size, embed_dim)\n",
    "x = embedding_layer(inputs)\n",
    "transformer_block = TransformerBlock(embed_dim, num_heads, ff_dim)\n",
    "x = transformer_block(x)\n",
    "x = layers.GlobalAveragePooling1D()(x)\n",
    "x = layers.Dropout(0.1)(x)\n",
    "x = layers.Dense(20, activation=\"relu\")(x)\n",
    "x = layers.Dropout(0.1)(x)\n",
    "outputs = layers.Dense(2, activation=\"softmax\")(x)\n",
    "\n",
    "model = keras.Model(inputs=inputs, outputs=outputs)"
   ]
  },
  {
   "cell_type": "markdown",
   "id": "executive-language",
   "metadata": {},
   "source": [
    "Entrenamiento y evaluación."
   ]
  },
  {
   "cell_type": "code",
   "execution_count": 29,
   "id": "laughing-sport",
   "metadata": {},
   "outputs": [
    {
     "name": "stdout",
     "output_type": "stream",
     "text": [
      "Epoch 1/2\n",
      "782/782 [==============================] - 397s 505ms/step - loss: 0.4936 - accuracy: 0.7274 - val_loss: 0.3057 - val_accuracy: 0.8672\n",
      "Epoch 2/2\n",
      "782/782 [==============================] - 429s 548ms/step - loss: 0.2006 - accuracy: 0.9235 - val_loss: 0.3218 - val_accuracy: 0.8666\n"
     ]
    }
   ],
   "source": [
    "model.compile(\"adam\", \"sparse_categorical_crossentropy\", metrics=[\"accuracy\"])\n",
    "history = model.fit(\n",
    "    x_train, y_train, batch_size=32, epochs=2, validation_data=(x_val, y_val)\n",
    ")"
   ]
  },
  {
   "cell_type": "markdown",
   "id": "union-prisoner",
   "metadata": {},
   "source": [
    "## Transformers con modelos pre-entrenados\n",
    "\n",
    "### Bidirectional Encoder Representations from Transformers (BERT) \n",
    "\n",
    "Es un modelo de aprendizaje automático basada en *Transformer* desarrollada por Google. Entrenado con 800 millones de palabras de BookCorpus y 2500 millones de palabras de artículos de wikipedia en inglés.\n",
    "\n",
    "### Generative Pre-trained Transformer 3 (GPT-3)\n",
    "\n",
    "Es un modelo de lenguaje auto regresivo de *deep learning* para la generación de lenguaje natural."
   ]
  },
  {
   "cell_type": "markdown",
   "id": "monetary-colony",
   "metadata": {},
   "source": [
    "## Referencias\n",
    "\n",
    "[1] [Natural language](https://en.wikipedia.org/wiki/Natural_language)\n",
    "\n",
    "[2] [What Is Natural Language Processing?](https://machinelearningmastery.com/natural-language-processing/)\n",
    "\n",
    "[3] [NLP, AI, and Machine Learning: What’s The Difference?](https://monkeylearn.com/blog/nlp-ai/)\n",
    "\n",
    "[4] [ Deep Learning for Natural Language Processing Develop Deep Learning Models for Natural Language in Python](http://ling.snu.ac.kr/class/AI_Agent/deep_learning_for_nlp.pdf)\n",
    "\n",
    "[5] [Natural Language Processing (NLP) & Text Mining Tutorial Using NLTK | NLP Training | Edureka](https://www.youtube.com/watch?v=05ONoGfmKvA&t=0s)\n",
    "\n",
    "[6] [PyCon 2020 Natural Language Processing (NLP) in Python](https://www.youtube.com/watch?v=vyOgWhwUmec)\n",
    "\n",
    "[7] [Attention is all you need](https://papers.nips.cc/paper/2017/file/3f5ee243547dee91fbd053c1c4a845aa-Paper.pdf)\n",
    "\n",
    "[8] [Text classification with Transformer](https://keras.io/examples/nlp/text_classification_with_transformer/)\n",
    "\n",
    "[9] [Illustrated Guide to Transformers Neural Network: A step by step explanation](https://www.youtube.com/watch?v=4Bdc55j80l8)\n",
    "\n",
    "[10] [Write with Transformers](https://transformer.huggingface.co/doc/gpt2-large)"
   ]
  }
 ],
 "metadata": {
  "kernelspec": {
   "display_name": "Python 3",
   "language": "python",
   "name": "python3"
  },
  "language_info": {
   "codemirror_mode": {
    "name": "ipython",
    "version": 3
   },
   "file_extension": ".py",
   "mimetype": "text/x-python",
   "name": "python",
   "nbconvert_exporter": "python",
   "pygments_lexer": "ipython3",
   "version": "3.9.1"
  }
 },
 "nbformat": 4,
 "nbformat_minor": 5
}
